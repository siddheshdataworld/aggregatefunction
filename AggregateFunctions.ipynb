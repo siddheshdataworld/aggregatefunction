{
 "cells": [
  {
   "cell_type": "code",
   "execution_count": 0,
   "metadata": {
    "application/vnd.databricks.v1+cell": {
     "cellMetadata": {
      "byteLimit": 2048000,
      "rowLimit": 10000
     },
     "inputWidgets": {},
     "nuid": "ae2561f1-4550-43a3-81ef-a709faa242f8",
     "showTitle": false,
     "title": ""
    }
   },
   "outputs": [],
   "source": [
    "orders_raw_df = spark.read.format(\"csv\").option(\"header\", \"true\").load(\"dbfs:/FileStore/AggregateFunctions/Order_Raw_csv.csv\")"
   ]
  },
  {
   "cell_type": "code",
   "execution_count": 0,
   "metadata": {
    "application/vnd.databricks.v1+cell": {
     "cellMetadata": {
      "byteLimit": 2048000,
      "rowLimit": 10000
     },
     "inputWidgets": {},
     "nuid": "d7da6c29-3a69-4e30-8236-c110c986ea0d",
     "showTitle": false,
     "title": ""
    }
   },
   "outputs": [
    {
     "output_type": "stream",
     "name": "stdout",
     "output_type": "stream",
     "text": [
      "+------+--------------+----------+----------+--------------+-----------+---------------+--------+--------+--------+--------+\n|Row ID|      Order ID|Order Date| Ship Date|     Ship Mode|Customer ID|     Product ID|   Sales|Quantity|Discount|  Profit|\n+------+--------------+----------+----------+--------------+-----------+---------------+--------+--------+--------+--------+\n|     1|CA-2016-152156|08-11-2016|11-11-2016|  Second Class|   CG-12520|FUR-BO-10001798|  261.96|       2|       0| 41.9136|\n|     2|CA-2016-152156|08-11-2016|11-11-2016|  Second Class|   CG-12520|FUR-CH-10000454|  731.94|       3|       0| 219.582|\n|     3|CA-2016-138688|12-06-2016|16-06-2016|  Second Class|   DV-13045|OFF-LA-10000240|   14.62|       2|       0|  6.8714|\n|     4|US-2015-108966|11-10-2015|18-10-2015|Standard Class|   SO-20335|FUR-TA-10000577|957.5775|       5|    0.45|-383.031|\n|     5|US-2015-108966|11-10-2015|18-10-2015|Standard Class|   SO-20335|OFF-ST-10000760|  22.368|       2|     0.2|  2.5164|\n|     6|CA-2014-115812|09-06-2014|14-06-2014|Standard Class|   BH-11710|FUR-FU-10001487|   48.86|       7|       0| 14.1694|\n|     7|CA-2014-115812|09-06-2014|14-06-2014|Standard Class|   BH-11710|OFF-AR-10002833|    7.28|       4|       0|  1.9656|\n|     8|CA-2014-115812|09-06-2014|14-06-2014|Standard Class|   BH-11710|TEC-PH-10002275| 907.152|       6|     0.2| 90.7152|\n|     9|CA-2014-115812|09-06-2014|14-06-2014|Standard Class|   BH-11710|OFF-BI-10003910|  18.504|       3|     0.2|  5.7825|\n|    10|CA-2014-115812|09-06-2014|14-06-2014|Standard Class|   BH-11710|OFF-AP-10002892|   114.9|       5|       0|   34.47|\n|    11|CA-2014-115812|09-06-2014|14-06-2014|Standard Class|   BH-11710|FUR-TA-10001539|1706.184|       9|     0.2| 85.3092|\n|    12|CA-2014-115812|09-06-2014|14-06-2014|Standard Class|   BH-11710|TEC-PH-10002033| 911.424|       4|     0.2| 68.3568|\n|    13|CA-2017-114412|15-04-2017|20-04-2017|Standard Class|   AA-10480|OFF-PA-10002365|  15.552|       3|     0.2|  5.4432|\n|    14|CA-2016-161389|05-12-2016|10-12-2016|Standard Class|   IM-15070|OFF-BI-10003656| 407.976|       3|     0.2|132.5922|\n|    15|US-2015-118983|22-11-2015|26-11-2015|Standard Class|   HP-14815|OFF-AP-10002311|   68.81|       5|     0.8|-123.858|\n|    16|US-2015-118983|22-11-2015|26-11-2015|Standard Class|   HP-14815|OFF-BI-10000756|   2.544|       3|     0.8|  -3.816|\n|    17|CA-2014-105893|11-11-2014|18-11-2014|Standard Class|   PK-19075|OFF-ST-10004186|  665.88|       6|       0| 13.3176|\n|    18|CA-2014-167164|13-05-2014|15-05-2014|  Second Class|   AG-10270|OFF-ST-10000107|    55.5|       2|       0|    9.99|\n|    19|CA-2014-143336|27-08-2014|01-09-2014|  Second Class|   ZD-21925|OFF-AR-10003056|    8.56|       2|       0|  2.4824|\n|    20|CA-2014-143336|27-08-2014|01-09-2014|  Second Class|   ZD-21925|TEC-PH-10001949|  213.48|       3|     0.2|  16.011|\n+------+--------------+----------+----------+--------------+-----------+---------------+--------+--------+--------+--------+\nonly showing top 20 rows\n\n"
     ]
    }
   ],
   "source": [
    "orders_raw_df.show()"
   ]
  },
  {
   "cell_type": "code",
   "execution_count": 0,
   "metadata": {
    "application/vnd.databricks.v1+cell": {
     "cellMetadata": {
      "byteLimit": 2048000,
      "rowLimit": 10000
     },
     "inputWidgets": {},
     "nuid": "a7a6f684-7561-4b1f-bedb-f5631b863240",
     "showTitle": false,
     "title": ""
    }
   },
   "outputs": [],
   "source": [
    "from pyspark.sql.functions import *"
   ]
  },
  {
   "cell_type": "code",
   "execution_count": 0,
   "metadata": {
    "application/vnd.databricks.v1+cell": {
     "cellMetadata": {
      "byteLimit": 2048000,
      "rowLimit": 10000
     },
     "inputWidgets": {},
     "nuid": "3787951c-632a-4a61-a045-0cdc6157e4df",
     "showTitle": false,
     "title": ""
    }
   },
   "outputs": [],
   "source": [
    "orders_cols_renamed = orders_raw_df.select(col(\"Row ID\").alias(\"Row_Id\"),col(\"Order ID\").alias(\"Order_Id\"),col(\"Order Date\").alias(\"Order_Date\"),col(\"Ship Date\").alias(\"Ship_Date\"),col(\"Ship Mode\").alias(\"Ship_Mode\"),col(\"Customer ID\").alias(\"Customer_Id\"),col(\"Product ID\").alias(\"Product_Id\"),col(\"Sales\"),col(\"Quantity\"),col(\"Discount\"),col(\"Profit\"))"
   ]
  },
  {
   "cell_type": "code",
   "execution_count": 0,
   "metadata": {
    "application/vnd.databricks.v1+cell": {
     "cellMetadata": {
      "byteLimit": 2048000,
      "rowLimit": 10000
     },
     "inputWidgets": {},
     "nuid": "746762df-51c0-46bb-9044-168b65f70f98",
     "showTitle": false,
     "title": ""
    }
   },
   "outputs": [
    {
     "output_type": "stream",
     "name": "stdout",
     "output_type": "stream",
     "text": [
      "+------+--------------+----------+----------+--------------+-----------+---------------+--------+--------+--------+--------+\n|Row_Id|      Order_Id|Order_Date| Ship_Date|     Ship_Mode|Customer_Id|     Product_Id|   Sales|Quantity|Discount|  Profit|\n+------+--------------+----------+----------+--------------+-----------+---------------+--------+--------+--------+--------+\n|     1|CA-2016-152156|08-11-2016|11-11-2016|  Second Class|   CG-12520|FUR-BO-10001798|  261.96|       2|       0| 41.9136|\n|     2|CA-2016-152156|08-11-2016|11-11-2016|  Second Class|   CG-12520|FUR-CH-10000454|  731.94|       3|       0| 219.582|\n|     3|CA-2016-138688|12-06-2016|16-06-2016|  Second Class|   DV-13045|OFF-LA-10000240|   14.62|       2|       0|  6.8714|\n|     4|US-2015-108966|11-10-2015|18-10-2015|Standard Class|   SO-20335|FUR-TA-10000577|957.5775|       5|    0.45|-383.031|\n|     5|US-2015-108966|11-10-2015|18-10-2015|Standard Class|   SO-20335|OFF-ST-10000760|  22.368|       2|     0.2|  2.5164|\n|     6|CA-2014-115812|09-06-2014|14-06-2014|Standard Class|   BH-11710|FUR-FU-10001487|   48.86|       7|       0| 14.1694|\n|     7|CA-2014-115812|09-06-2014|14-06-2014|Standard Class|   BH-11710|OFF-AR-10002833|    7.28|       4|       0|  1.9656|\n|     8|CA-2014-115812|09-06-2014|14-06-2014|Standard Class|   BH-11710|TEC-PH-10002275| 907.152|       6|     0.2| 90.7152|\n|     9|CA-2014-115812|09-06-2014|14-06-2014|Standard Class|   BH-11710|OFF-BI-10003910|  18.504|       3|     0.2|  5.7825|\n|    10|CA-2014-115812|09-06-2014|14-06-2014|Standard Class|   BH-11710|OFF-AP-10002892|   114.9|       5|       0|   34.47|\n|    11|CA-2014-115812|09-06-2014|14-06-2014|Standard Class|   BH-11710|FUR-TA-10001539|1706.184|       9|     0.2| 85.3092|\n|    12|CA-2014-115812|09-06-2014|14-06-2014|Standard Class|   BH-11710|TEC-PH-10002033| 911.424|       4|     0.2| 68.3568|\n|    13|CA-2017-114412|15-04-2017|20-04-2017|Standard Class|   AA-10480|OFF-PA-10002365|  15.552|       3|     0.2|  5.4432|\n|    14|CA-2016-161389|05-12-2016|10-12-2016|Standard Class|   IM-15070|OFF-BI-10003656| 407.976|       3|     0.2|132.5922|\n|    15|US-2015-118983|22-11-2015|26-11-2015|Standard Class|   HP-14815|OFF-AP-10002311|   68.81|       5|     0.8|-123.858|\n|    16|US-2015-118983|22-11-2015|26-11-2015|Standard Class|   HP-14815|OFF-BI-10000756|   2.544|       3|     0.8|  -3.816|\n|    17|CA-2014-105893|11-11-2014|18-11-2014|Standard Class|   PK-19075|OFF-ST-10004186|  665.88|       6|       0| 13.3176|\n|    18|CA-2014-167164|13-05-2014|15-05-2014|  Second Class|   AG-10270|OFF-ST-10000107|    55.5|       2|       0|    9.99|\n|    19|CA-2014-143336|27-08-2014|01-09-2014|  Second Class|   ZD-21925|OFF-AR-10003056|    8.56|       2|       0|  2.4824|\n|    20|CA-2014-143336|27-08-2014|01-09-2014|  Second Class|   ZD-21925|TEC-PH-10001949|  213.48|       3|     0.2|  16.011|\n+------+--------------+----------+----------+--------------+-----------+---------------+--------+--------+--------+--------+\nonly showing top 20 rows\n\n"
     ]
    }
   ],
   "source": [
    "orders_cols_renamed.show()"
   ]
  },
  {
   "cell_type": "code",
   "execution_count": 0,
   "metadata": {
    "application/vnd.databricks.v1+cell": {
     "cellMetadata": {
      "byteLimit": 2048000,
      "rowLimit": 10000
     },
     "inputWidgets": {},
     "nuid": "46b9d47c-781b-4297-b17e-1dba7d8c1a45",
     "showTitle": false,
     "title": ""
    }
   },
   "outputs": [],
   "source": [
    "orders_cols_renamed.createOrReplaceTempView(\"orders_raw_tbl\")"
   ]
  },
  {
   "cell_type": "code",
   "execution_count": 0,
   "metadata": {
    "application/vnd.databricks.v1+cell": {
     "cellMetadata": {
      "byteLimit": 2048000,
      "rowLimit": 10000
     },
     "inputWidgets": {},
     "nuid": "7586cc57-96a7-451f-a8a0-790884c01ad3",
     "showTitle": false,
     "title": ""
    }
   },
   "outputs": [
    {
     "output_type": "stream",
     "name": "stdout",
     "output_type": "stream",
     "text": [
      "+------+--------------+----------+----------+--------------+-----------+---------------+--------+--------+--------+--------+\n|Row_Id|      Order_Id|Order_Date| Ship_Date|     Ship_Mode|Customer_Id|     Product_Id|   Sales|Quantity|Discount|  Profit|\n+------+--------------+----------+----------+--------------+-----------+---------------+--------+--------+--------+--------+\n|     1|CA-2016-152156|08-11-2016|11-11-2016|  Second Class|   CG-12520|FUR-BO-10001798|  261.96|       2|       0| 41.9136|\n|     2|CA-2016-152156|08-11-2016|11-11-2016|  Second Class|   CG-12520|FUR-CH-10000454|  731.94|       3|       0| 219.582|\n|     3|CA-2016-138688|12-06-2016|16-06-2016|  Second Class|   DV-13045|OFF-LA-10000240|   14.62|       2|       0|  6.8714|\n|     4|US-2015-108966|11-10-2015|18-10-2015|Standard Class|   SO-20335|FUR-TA-10000577|957.5775|       5|    0.45|-383.031|\n|     5|US-2015-108966|11-10-2015|18-10-2015|Standard Class|   SO-20335|OFF-ST-10000760|  22.368|       2|     0.2|  2.5164|\n|     6|CA-2014-115812|09-06-2014|14-06-2014|Standard Class|   BH-11710|FUR-FU-10001487|   48.86|       7|       0| 14.1694|\n|     7|CA-2014-115812|09-06-2014|14-06-2014|Standard Class|   BH-11710|OFF-AR-10002833|    7.28|       4|       0|  1.9656|\n|     8|CA-2014-115812|09-06-2014|14-06-2014|Standard Class|   BH-11710|TEC-PH-10002275| 907.152|       6|     0.2| 90.7152|\n|     9|CA-2014-115812|09-06-2014|14-06-2014|Standard Class|   BH-11710|OFF-BI-10003910|  18.504|       3|     0.2|  5.7825|\n|    10|CA-2014-115812|09-06-2014|14-06-2014|Standard Class|   BH-11710|OFF-AP-10002892|   114.9|       5|       0|   34.47|\n|    11|CA-2014-115812|09-06-2014|14-06-2014|Standard Class|   BH-11710|FUR-TA-10001539|1706.184|       9|     0.2| 85.3092|\n|    12|CA-2014-115812|09-06-2014|14-06-2014|Standard Class|   BH-11710|TEC-PH-10002033| 911.424|       4|     0.2| 68.3568|\n|    13|CA-2017-114412|15-04-2017|20-04-2017|Standard Class|   AA-10480|OFF-PA-10002365|  15.552|       3|     0.2|  5.4432|\n|    14|CA-2016-161389|05-12-2016|10-12-2016|Standard Class|   IM-15070|OFF-BI-10003656| 407.976|       3|     0.2|132.5922|\n|    15|US-2015-118983|22-11-2015|26-11-2015|Standard Class|   HP-14815|OFF-AP-10002311|   68.81|       5|     0.8|-123.858|\n|    16|US-2015-118983|22-11-2015|26-11-2015|Standard Class|   HP-14815|OFF-BI-10000756|   2.544|       3|     0.8|  -3.816|\n|    17|CA-2014-105893|11-11-2014|18-11-2014|Standard Class|   PK-19075|OFF-ST-10004186|  665.88|       6|       0| 13.3176|\n|    18|CA-2014-167164|13-05-2014|15-05-2014|  Second Class|   AG-10270|OFF-ST-10000107|    55.5|       2|       0|    9.99|\n|    19|CA-2014-143336|27-08-2014|01-09-2014|  Second Class|   ZD-21925|OFF-AR-10003056|    8.56|       2|       0|  2.4824|\n|    20|CA-2014-143336|27-08-2014|01-09-2014|  Second Class|   ZD-21925|TEC-PH-10001949|  213.48|       3|     0.2|  16.011|\n+------+--------------+----------+----------+--------------+-----------+---------------+--------+--------+--------+--------+\nonly showing top 20 rows\n\n"
     ]
    }
   ],
   "source": [
    "spark.sql(\"Select * from orders_raw_tbl\").show()"
   ]
  },
  {
   "cell_type": "markdown",
   "metadata": {
    "application/vnd.databricks.v1+cell": {
     "cellMetadata": {
      "byteLimit": 2048000,
      "rowLimit": 10000
     },
     "inputWidgets": {},
     "nuid": "aea7337d-a777-4e37-9ebe-9c4244812097",
     "showTitle": false,
     "title": ""
    }
   },
   "source": [
    "Simple Aggregations -\n",
    "Count Total Number of Records (Programmatic way)"
   ]
  },
  {
   "cell_type": "code",
   "execution_count": 0,
   "metadata": {
    "application/vnd.databricks.v1+cell": {
     "cellMetadata": {
      "byteLimit": 2048000,
      "rowLimit": 10000
     },
     "inputWidgets": {},
     "nuid": "93cbc401-025e-4ae0-9759-dcdb8e5ab6bc",
     "showTitle": false,
     "title": ""
    }
   },
   "outputs": [
    {
     "output_type": "stream",
     "name": "stdout",
     "output_type": "stream",
     "text": [
      "+---------+\n|Row Count|\n+---------+\n|     9994|\n+---------+\n\n"
     ]
    }
   ],
   "source": [
    "orders_cols_renamed.select(count(\"*\").alias(\"Row Count\")).show()"
   ]
  },
  {
   "cell_type": "code",
   "execution_count": 0,
   "metadata": {
    "application/vnd.databricks.v1+cell": {
     "cellMetadata": {
      "byteLimit": 2048000,
      "rowLimit": 10000
     },
     "inputWidgets": {},
     "nuid": "30110aaf-46c7-4154-9d7c-317810e28c0d",
     "showTitle": false,
     "title": ""
    }
   },
   "outputs": [
    {
     "output_type": "stream",
     "name": "stdout",
     "output_type": "stream",
     "text": [
      "+---------+\n|row_count|\n+---------+\n|     9994|\n+---------+\n\n"
     ]
    }
   ],
   "source": [
    "orders_cols_renamed.selectExpr(\"count(*) as row_count\").show()"
   ]
  },
  {
   "cell_type": "markdown",
   "metadata": {
    "application/vnd.databricks.v1+cell": {
     "cellMetadata": {},
     "inputWidgets": {},
     "nuid": "226524c9-6915-4257-83f3-06224779cea6",
     "showTitle": false,
     "title": ""
    }
   },
   "source": [
    "Simple Aggregation - Count Total Number of Records (SQL style)"
   ]
  },
  {
   "cell_type": "code",
   "execution_count": 0,
   "metadata": {
    "application/vnd.databricks.v1+cell": {
     "cellMetadata": {
      "byteLimit": 2048000,
      "rowLimit": 10000
     },
     "inputWidgets": {},
     "nuid": "0585d1dc-9600-4724-b065-318f8389e0b3",
     "showTitle": false,
     "title": ""
    }
   },
   "outputs": [
    {
     "output_type": "stream",
     "name": "stdout",
     "output_type": "stream",
     "text": [
      "+---------+\n|row_count|\n+---------+\n|     9994|\n+---------+\n\n"
     ]
    }
   ],
   "source": [
    "spark.sql(\"select count(*) as row_count from orders_raw_tbl\").show()"
   ]
  },
  {
   "cell_type": "markdown",
   "metadata": {
    "application/vnd.databricks.v1+cell": {
     "cellMetadata": {},
     "inputWidgets": {},
     "nuid": "7d0157b9-b9a3-4678-a06b-e8d65b57afac",
     "showTitle": false,
     "title": ""
    }
   },
   "source": [
    "Simple Aggreation - Count Distinct Orders(Programmatic style)"
   ]
  },
  {
   "cell_type": "code",
   "execution_count": 0,
   "metadata": {
    "application/vnd.databricks.v1+cell": {
     "cellMetadata": {
      "byteLimit": 2048000,
      "rowLimit": 10000
     },
     "inputWidgets": {},
     "nuid": "cda83ef3-52f8-4d5b-bf5b-6c0e0aa592bb",
     "showTitle": false,
     "title": ""
    }
   },
   "outputs": [
    {
     "output_type": "stream",
     "name": "stdout",
     "output_type": "stream",
     "text": [
      "+-------------+\n|Unique orders|\n+-------------+\n|         5009|\n+-------------+\n\n"
     ]
    }
   ],
   "source": [
    "orders_cols_renamed.select(countDistinct(\"Order_Id\").alias(\"Unique orders\")).show()"
   ]
  },
  {
   "cell_type": "code",
   "execution_count": 0,
   "metadata": {
    "application/vnd.databricks.v1+cell": {
     "cellMetadata": {
      "byteLimit": 2048000,
      "rowLimit": 10000
     },
     "inputWidgets": {},
     "nuid": "962964d6-a2b8-41c6-9f3c-b05c10b21511",
     "showTitle": false,
     "title": ""
    }
   },
   "outputs": [
    {
     "output_type": "stream",
     "name": "stdout",
     "output_type": "stream",
     "text": [
      "+-------------+\n|Unique_orders|\n+-------------+\n|         5009|\n+-------------+\n\n"
     ]
    }
   ],
   "source": [
    "orders_cols_renamed.selectExpr(\"count(distinct(Order_Id)) as Unique_orders\").show()"
   ]
  },
  {
   "cell_type": "markdown",
   "metadata": {
    "application/vnd.databricks.v1+cell": {
     "cellMetadata": {},
     "inputWidgets": {},
     "nuid": "b2c2b6f2-383c-4fd9-88d4-3db8596e765d",
     "showTitle": false,
     "title": ""
    }
   },
   "source": [
    "Simple Aggreation - Count Distinct Orders(SQL style)"
   ]
  },
  {
   "cell_type": "code",
   "execution_count": 0,
   "metadata": {
    "application/vnd.databricks.v1+cell": {
     "cellMetadata": {
      "byteLimit": 2048000,
      "rowLimit": 10000
     },
     "inputWidgets": {},
     "nuid": "00d3e706-89e9-4d1b-93b8-c71f52680c49",
     "showTitle": false,
     "title": ""
    }
   },
   "outputs": [
    {
     "output_type": "stream",
     "name": "stdout",
     "output_type": "stream",
     "text": [
      "+-------------+\n|unique_orders|\n+-------------+\n|         5009|\n+-------------+\n\n"
     ]
    }
   ],
   "source": [
    "spark.sql(\"select count(distinct(Order_id)) as unique_orders from orders_raw_tbl\").show()"
   ]
  },
  {
   "cell_type": "markdown",
   "metadata": {
    "application/vnd.databricks.v1+cell": {
     "cellMetadata": {},
     "inputWidgets": {},
     "nuid": "de8d83a9-a5c4-4f02-8439-d0bcf0d28197",
     "showTitle": false,
     "title": ""
    }
   },
   "source": [
    "Grouping Aggregation - Sum of Profict per customer, per product sorted by customer id (Programmatic style)"
   ]
  },
  {
   "cell_type": "code",
   "execution_count": 0,
   "metadata": {
    "application/vnd.databricks.v1+cell": {
     "cellMetadata": {
      "byteLimit": 2048000,
      "rowLimit": 10000
     },
     "inputWidgets": {},
     "nuid": "ff2b372d-1a37-44ee-a363-4c7dbf2dcadc",
     "showTitle": false,
     "title": ""
    }
   },
   "outputs": [
    {
     "output_type": "stream",
     "name": "stdout",
     "output_type": "stream",
     "text": [
      "+-----------+---------------+-----------+\n|Customer_id|     Product_Id|sum(Profit)|\n+-----------+---------------+-----------+\n|   AA-10315|OFF-ST-10001590|     7.0096|\n|   AA-10315|OFF-SU-10000151|  -786.0144|\n|   AA-10315|OFF-AP-10000576|     90.735|\n|   AA-10315|OFF-AP-10002765|    14.8344|\n|   AA-10315|TEC-PH-10000895|    32.3982|\n|   AA-10315|OFF-BI-10004654|       5.77|\n|   AA-10315|OFF-PA-10000349|     7.0218|\n|   AA-10315|FUR-FU-10002456|     6.2608|\n|   AA-10315|OFF-FA-10001332|     0.7776|\n|   AA-10315|OFF-BI-10004390|    252.588|\n|   AA-10315|TEC-AC-10002857|     5.7365|\n|   AA-10375|OFF-PA-10002479|      2.376|\n|   AA-10375|OFF-BI-10002498|     5.0463|\n|   AA-10375|OFF-BI-10002706|    11.1384|\n|   AA-10375|TEC-AC-10004145|   114.9954|\n|   AA-10375|OFF-AR-10000127|     0.5904|\n|   AA-10375|TEC-PH-10004522|     29.245|\n|   AA-10375|OFF-PA-10002659|      7.774|\n|   AA-10375|OFF-ST-10001325|     1.4672|\n|   AA-10375|OFF-PA-10000157|    18.7812|\n+-----------+---------------+-----------+\nonly showing top 20 rows\n\n"
     ]
    }
   ],
   "source": [
    "orders_cols_renamed.groupBy(\"Customer_id\",\"Product_Id\").agg(sum(\"Profit\")).sort(\"customer_Id\").show()"
   ]
  },
  {
   "cell_type": "markdown",
   "metadata": {
    "application/vnd.databricks.v1+cell": {
     "cellMetadata": {
      "byteLimit": 2048000,
      "rowLimit": 10000
     },
     "inputWidgets": {},
     "nuid": "3c1664f7-94d0-40d7-a36e-08871d0724d3",
     "showTitle": false,
     "title": ""
    }
   },
   "source": [
    "Grouping Aggregation - Sum of Profict per customer, per product sorted by customer id (SQL style)"
   ]
  },
  {
   "cell_type": "code",
   "execution_count": 0,
   "metadata": {
    "application/vnd.databricks.v1+cell": {
     "cellMetadata": {
      "byteLimit": 2048000,
      "rowLimit": 10000
     },
     "inputWidgets": {},
     "nuid": "462ad682-0bea-4713-be22-80f72f336cca",
     "showTitle": false,
     "title": ""
    }
   },
   "outputs": [
    {
     "output_type": "stream",
     "name": "stdout",
     "output_type": "stream",
     "text": [
      "+-----------+---------------+-------------+\n|Customer_id|     Product_Id|Total_Profict|\n+-----------+---------------+-------------+\n|   AA-10315|OFF-ST-10001590|       7.0096|\n|   AA-10315|OFF-SU-10000151|    -786.0144|\n|   AA-10315|OFF-AP-10000576|       90.735|\n|   AA-10315|OFF-AP-10002765|      14.8344|\n|   AA-10315|TEC-PH-10000895|      32.3982|\n|   AA-10315|OFF-BI-10004654|         5.77|\n|   AA-10315|OFF-PA-10000349|       7.0218|\n|   AA-10315|FUR-FU-10002456|       6.2608|\n|   AA-10315|OFF-FA-10001332|       0.7776|\n|   AA-10315|OFF-BI-10004390|      252.588|\n|   AA-10315|TEC-AC-10002857|       5.7365|\n|   AA-10375|OFF-PA-10002479|        2.376|\n|   AA-10375|OFF-BI-10002498|       5.0463|\n|   AA-10375|OFF-BI-10002706|      11.1384|\n|   AA-10375|TEC-AC-10004145|     114.9954|\n|   AA-10375|OFF-AR-10000127|       0.5904|\n|   AA-10375|TEC-PH-10004522|       29.245|\n|   AA-10375|OFF-PA-10002659|        7.774|\n|   AA-10375|OFF-ST-10001325|       1.4672|\n|   AA-10375|OFF-PA-10000157|      18.7812|\n+-----------+---------------+-------------+\nonly showing top 20 rows\n\n"
     ]
    }
   ],
   "source": [
    "spark.sql(\"select Customer_id, Product_Id, sum(Profit) as Total_Profict from orders_raw_tbl group by Customer_Id, Product_Id order by Customer_Id\").show()"
   ]
  }
 ],
 "metadata": {
  "application/vnd.databricks.v1+notebook": {
   "dashboards": [],
   "language": "python",
   "notebookMetadata": {
    "pythonIndentUnit": 4
   },
   "notebookName": "AggregateFunctions",
   "widgets": {}
  }
 },
 "nbformat": 4,
 "nbformat_minor": 0
}
